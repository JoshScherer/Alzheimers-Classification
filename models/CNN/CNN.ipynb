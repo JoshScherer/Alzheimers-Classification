{
 "cells": [
  {
   "cell_type": "code",
   "execution_count": 12,
   "metadata": {},
   "outputs": [],
   "source": [
    "import tensorflow as tf\n",
    "from tensorflow import keras\n",
    "from keras.models import Sequential\n",
    "from keras.layers import Dense, Flatten, Conv2D, MaxPooling2D, Dropout\n",
    "from keras.losses import SparseCategoricalCrossentropy, CategoricalCrossentropy\n",
    "from keras import layers\n",
    "from keras.utils import to_categorical\n",
    "import numpy as np\n",
    "import matplotlib.pyplot as plt"
   ]
  },
  {
   "cell_type": "code",
   "execution_count": 36,
   "metadata": {},
   "outputs": [
    {
     "name": "stdout",
     "output_type": "stream",
     "text": [
      "Found 33984 files belonging to 4 classes.\n",
      "Using 27188 files for training.\n",
      "Found 33984 files belonging to 4 classes.\n",
      "Using 6796 files for validation.\n"
     ]
    }
   ],
   "source": [
    "train_ds = tf.keras.preprocessing.image_dataset_from_directory(\n",
    "                '../../data/AugmentedAlzheimerDataset',\n",
    "                labels=\"inferred\",\n",
    "                label_mode=\"int\",\n",
    "                class_names=None,\n",
    "                color_mode=\"rgb\",\n",
    "                batch_size=32,\n",
    "                image_size=(180, 180),  # can change this, maybe avg dimensions over all pics\n",
    "                shuffle=True,\n",
    "                seed=69, #haha\n",
    "                validation_split=.2,\n",
    "                subset='training',\n",
    "                interpolation=\"bilinear\",\n",
    "                follow_links=False,\n",
    "                crop_to_aspect_ratio=False\n",
    "            )\n",
    "\n",
    "val_ds = tf.keras.preprocessing.image_dataset_from_directory(\n",
    "                '../../data/AugmentedAlzheimerDataset',\n",
    "                labels=\"inferred\",\n",
    "                label_mode=\"int\",\n",
    "                class_names=None,\n",
    "                color_mode=\"rgb\",\n",
    "                batch_size=32,\n",
    "                image_size=(180, 180),  # can change this, maybe avg dimensions over all pics\n",
    "                shuffle=True,\n",
    "                seed=69, #haha\n",
    "                validation_split=.2,\n",
    "                subset='validation',\n",
    "                interpolation=\"bilinear\",\n",
    "                follow_links=False,\n",
    "                crop_to_aspect_ratio=False\n",
    "            )"
   ]
  },
  {
   "cell_type": "markdown",
   "metadata": {},
   "source": [
    "### A simple starter to play around with\n",
    "\n",
    "from: https://www.tensorflow.org/tutorials/images/cnn "
   ]
  },
  {
   "cell_type": "code",
   "execution_count": 37,
   "metadata": {},
   "outputs": [
    {
     "name": "stdout",
     "output_type": "stream",
     "text": [
      "Model: \"sequential_11\"\n",
      "_________________________________________________________________\n",
      " Layer (type)                Output Shape              Param #   \n",
      "=================================================================\n",
      " conv2d_30 (Conv2D)          (None, 178, 178, 32)      896       \n",
      "                                                                 \n",
      " max_pooling2d_19 (MaxPoolin  (None, 89, 89, 32)       0         \n",
      " g2D)                                                            \n",
      "                                                                 \n",
      " conv2d_31 (Conv2D)          (None, 87, 87, 64)        18496     \n",
      "                                                                 \n",
      " max_pooling2d_20 (MaxPoolin  (None, 43, 43, 64)       0         \n",
      " g2D)                                                            \n",
      "                                                                 \n",
      " conv2d_32 (Conv2D)          (None, 41, 41, 64)        36928     \n",
      "                                                                 \n",
      " flatten_7 (Flatten)         (None, 107584)            0         \n",
      "                                                                 \n",
      " dense_9 (Dense)             (None, 64)                6885440   \n",
      "                                                                 \n",
      " dense_10 (Dense)            (None, 4)                 260       \n",
      "                                                                 \n",
      "=================================================================\n",
      "Total params: 6,942,020\n",
      "Trainable params: 6,942,020\n",
      "Non-trainable params: 0\n",
      "_________________________________________________________________\n"
     ]
    }
   ],
   "source": [
    "simpleCNN = Sequential()\n",
    "simpleCNN.add(Conv2D(32, (3,3), activation='relu', input_shape=(180, 180, 3)))\n",
    "simpleCNN.add(MaxPooling2D((2,2)))\n",
    "simpleCNN.add(Conv2D(64, (3,3), activation='relu'))\n",
    "simpleCNN.add(MaxPooling2D((2,2)))\n",
    "simpleCNN.add(Conv2D(64, (3,3), activation='relu'))\n",
    "\n",
    "#add dense layers\n",
    "simpleCNN.add(Flatten())\n",
    "simpleCNN.add(Dense(64, activation='relu'))\n",
    "simpleCNN.add(Dense(4))\n",
    "\n",
    "simpleCNN.summary()"
   ]
  },
  {
   "cell_type": "code",
   "execution_count": 38,
   "metadata": {},
   "outputs": [
    {
     "name": "stdout",
     "output_type": "stream",
     "text": [
      "Epoch 1/8\n"
     ]
    },
    {
     "name": "stderr",
     "output_type": "stream",
     "text": [
      "2023-04-18 16:09:14.577421: I tensorflow/core/grappler/optimizers/custom_graph_optimizer_registry.cc:113] Plugin optimizer for device_type GPU is enabled.\n"
     ]
    },
    {
     "name": "stdout",
     "output_type": "stream",
     "text": [
      "850/850 [==============================] - ETA: 0s - loss: 4.4666 - accuracy: 0.5118"
     ]
    },
    {
     "name": "stderr",
     "output_type": "stream",
     "text": [
      "2023-04-18 16:10:41.954292: I tensorflow/core/grappler/optimizers/custom_graph_optimizer_registry.cc:113] Plugin optimizer for device_type GPU is enabled.\n"
     ]
    },
    {
     "name": "stdout",
     "output_type": "stream",
     "text": [
      "850/850 [==============================] - 96s 112ms/step - loss: 4.4666 - accuracy: 0.5118 - val_loss: 0.8480 - val_accuracy: 0.6214\n",
      "Epoch 2/8\n",
      "850/850 [==============================] - 95s 111ms/step - loss: 0.6800 - accuracy: 0.7033 - val_loss: 0.6551 - val_accuracy: 0.7162\n",
      "Epoch 3/8\n",
      "850/850 [==============================] - 95s 112ms/step - loss: 0.4580 - accuracy: 0.8026 - val_loss: 0.6190 - val_accuracy: 0.7421\n",
      "Epoch 4/8\n",
      "850/850 [==============================] - 92s 108ms/step - loss: 0.3409 - accuracy: 0.8537 - val_loss: 0.5775 - val_accuracy: 0.7833\n",
      "Epoch 5/8\n",
      "850/850 [==============================] - 94s 111ms/step - loss: 0.2690 - accuracy: 0.8859 - val_loss: 0.6192 - val_accuracy: 0.7693\n",
      "Epoch 6/8\n",
      "850/850 [==============================] - 94s 111ms/step - loss: 0.2375 - accuracy: 0.9037 - val_loss: 0.7293 - val_accuracy: 0.7669\n",
      "Epoch 7/8\n",
      "850/850 [==============================] - 95s 111ms/step - loss: 0.1927 - accuracy: 0.9218 - val_loss: 0.7013 - val_accuracy: 0.7933\n",
      "Epoch 8/8\n",
      "850/850 [==============================] - 95s 112ms/step - loss: 0.1630 - accuracy: 0.9327 - val_loss: 0.8840 - val_accuracy: 0.7722\n"
     ]
    }
   ],
   "source": [
    "simpleCNN.compile(optimizer='adam', loss = SparseCategoricalCrossentropy(from_logits=True), metrics=['accuracy'])\n",
    "history = simpleCNN.fit(train_ds, validation_data=val_ds, epochs=8)"
   ]
  },
  {
   "cell_type": "markdown",
   "metadata": {},
   "source": [
    "## 75% accuracy with boilerplate CNN structure straight from the docs! \n",
    "(random would be 25%) \n",
    "Let's see how accurate we can get by tweaking the layers/hyperparams to better fit our situation."
   ]
  },
  {
   "cell_type": "markdown",
   "metadata": {},
   "source": [
    "We can see that training accuracy has increased over each epoch, nearing 98%, however validation accuracy has become stagnant around 77%. This is evidence of overfit by the model. We will address this by creating a new model that is a tweaked version of the original."
   ]
  },
  {
   "cell_type": "code",
   "execution_count": 39,
   "metadata": {},
   "outputs": [
    {
     "name": "stdout",
     "output_type": "stream",
     "text": [
      "213/213 - 8s - loss: 0.8840 - accuracy: 0.7722 - 8s/epoch - 37ms/step\n"
     ]
    },
    {
     "data": {
      "image/png": "[encoded data removed]",
      "text/plain": [
       "<Figure size 640x480 with 1 Axes>"
      ]
     },
     "metadata": {},
     "output_type": "display_data"
    }
   ],
   "source": [
    "plt.plot(history.history['accuracy'], label='accuracy')\n",
    "plt.plot(history.history['val_accuracy'], label = 'val_accuracy')\n",
    "plt.xlabel('Epoch')\n",
    "plt.ylabel('Accuracy')\n",
    "plt.ylim([0.5, 1])\n",
    "plt.legend(loc='lower right')\n",
    "\n",
    "test_loss, test_acc = simpleCNN.evaluate(val_ds, verbose=2)"
   ]
  },
  {
   "cell_type": "markdown",
   "metadata": {},
   "source": [
    "### We will reference the following article which provides remedies to overfit for CNN's. \n",
    "https://towardsdatascience.com/deep-learning-3-more-on-cnns-handling-overfitting-2bd5d99abe5d \n",
    "\n",
    "The article recommends the following steps to reduce overfitting:\n",
    "1. Add more data\n",
    "2. Use data augmentation\n",
    "3. Use architectures that generalize well\n",
    "4. Add regularization (mostly dropout, L1/L2 regularization are also possible)\n",
    "5. Reduce architecture complexity.\n",
    "\n"
   ]
  }
 ],
 "metadata": {
  "kernelspec": {
   "display_name": "Python 3.10.6 64-bit",
   "language": "python",
   "name": "python3"
  },
  "language_info": {
   "codemirror_mode": {
    "name": "ipython",
    "version": 3
   },
   "file_extension": ".py",
   "mimetype": "text/x-python",
   "name": "python",
   "nbconvert_exporter": "python",
   "pygments_lexer": "ipython3",
   "version": "3.10.6"
  },
  "orig_nbformat": 4,
  "vscode": {
   "interpreter": {
    "hash": "aee8b7b246df8f9039afb4144a1f6fd8d2ca17a180786b69acc140d282b71a49"
   }
  }
 },
 "nbformat": 4,
 "nbformat_minor": 2
}
