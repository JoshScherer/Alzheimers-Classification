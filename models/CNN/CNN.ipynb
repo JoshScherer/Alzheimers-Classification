{
 "cells": [
  {
   "cell_type": "code",
   "execution_count": 43,
   "metadata": {},
   "outputs": [],
   "source": [
    "import tensorflow as tf\n",
    "from tensorflow import keras\n",
    "from keras.models import Sequential\n",
    "from keras.layers import Dense, Flatten, Conv2D, MaxPooling2D, Dropout, BatchNormalization\n",
    "from keras.losses import SparseCategoricalCrossentropy, CategoricalCrossentropy\n",
    "from keras import layers\n",
    "from keras.utils import to_categorical\n",
    "import numpy as np\n",
    "import matplotlib.pyplot as plt"
   ]
  },
  {
   "cell_type": "code",
   "execution_count": 85,
   "metadata": {},
   "outputs": [
    {
     "name": "stdout",
     "output_type": "stream",
     "text": [
      "Found 33984 files belonging to 4 classes.\n",
      "Using 27188 files for training.\n",
      "Found 33984 files belonging to 4 classes.\n",
      "Using 6796 files for validation.\n"
     ]
    }
   ],
   "source": [
    "train_ds = tf.keras.preprocessing.image_dataset_from_directory(\n",
    "                '../../data/AugmentedAlzheimerDataset',\n",
    "                labels=\"inferred\",\n",
    "                label_mode=\"int\",\n",
    "                class_names=None,\n",
    "                color_mode=\"rgb\",\n",
    "                batch_size=32,\n",
    "                image_size=(176, 208),  # can change this, maybe avg dimensions over all pics\n",
    "                shuffle=True,\n",
    "                seed=69, #haha\n",
    "                validation_split=.2,\n",
    "                subset='training',\n",
    "                interpolation=\"bilinear\",\n",
    "                follow_links=False,\n",
    "                crop_to_aspect_ratio=False\n",
    "            )\n",
    "\n",
    "val_ds = tf.keras.preprocessing.image_dataset_from_directory(\n",
    "                '../../data/AugmentedAlzheimerDataset',\n",
    "                labels=\"inferred\",\n",
    "                label_mode=\"int\",\n",
    "                class_names=None,\n",
    "                color_mode=\"rgb\",\n",
    "                batch_size=32,\n",
    "                image_size=(176, 208),  # can change this, maybe avg dimensions over all pics\n",
    "                shuffle=True,\n",
    "                seed=69, #haha\n",
    "                validation_split=.2,\n",
    "                subset='validation',\n",
    "                interpolation=\"bilinear\",\n",
    "                follow_links=False,\n",
    "                crop_to_aspect_ratio=False\n",
    "            )\n",
    "\n",
    "def one_hot(image, label):\n",
    "    return image, tf.one_hot(label, 4)\n",
    "\n",
    "train_ds = train_ds.map(one_hot)\n",
    "val_ds = val_ds.map(one_hot)"
   ]
  },
  {
   "cell_type": "markdown",
   "metadata": {},
   "source": [
    "### A simple starter to play around with\n",
    "\n",
    "from: https://www.tensorflow.org/tutorials/images/cnn "
   ]
  },
  {
   "cell_type": "code",
   "execution_count": 37,
   "metadata": {},
   "outputs": [
    {
     "name": "stdout",
     "output_type": "stream",
     "text": [
      "Model: \"sequential_11\"\n",
      "_________________________________________________________________\n",
      " Layer (type)                Output Shape              Param #   \n",
      "=================================================================\n",
      " conv2d_30 (Conv2D)          (None, 178, 178, 32)      896       \n",
      "                                                                 \n",
      " max_pooling2d_19 (MaxPoolin  (None, 89, 89, 32)       0         \n",
      " g2D)                                                            \n",
      "                                                                 \n",
      " conv2d_31 (Conv2D)          (None, 87, 87, 64)        18496     \n",
      "                                                                 \n",
      " max_pooling2d_20 (MaxPoolin  (None, 43, 43, 64)       0         \n",
      " g2D)                                                            \n",
      "                                                                 \n",
      " conv2d_32 (Conv2D)          (None, 41, 41, 64)        36928     \n",
      "                                                                 \n",
      " flatten_7 (Flatten)         (None, 107584)            0         \n",
      "                                                                 \n",
      " dense_9 (Dense)             (None, 64)                6885440   \n",
      "                                                                 \n",
      " dense_10 (Dense)            (None, 4)                 260       \n",
      "                                                                 \n",
      "=================================================================\n",
      "Total params: 6,942,020\n",
      "Trainable params: 6,942,020\n",
      "Non-trainable params: 0\n",
      "_________________________________________________________________\n"
     ]
    }
   ],
   "source": [
    "simpleCNN = Sequential()\n",
    "simpleCNN.add(Conv2D(32, (3,3), activation='relu', input_shape=(180, 180, 3)))\n",
    "simpleCNN.add(MaxPooling2D((2,2)))\n",
    "simpleCNN.add(Conv2D(64, (3,3), activation='relu'))\n",
    "simpleCNN.add(MaxPooling2D((2,2)))\n",
    "simpleCNN.add(Conv2D(64, (3,3), activation='relu'))\n",
    "\n",
    "#add dense layers\n",
    "simpleCNN.add(Flatten())\n",
    "simpleCNN.add(Dense(64, activation='relu'))\n",
    "simpleCNN.add(Dense(4))\n",
    "\n",
    "simpleCNN.summary()"
   ]
  },
  {
   "cell_type": "code",
   "execution_count": 38,
   "metadata": {},
   "outputs": [
    {
     "name": "stdout",
     "output_type": "stream",
     "text": [
      "Epoch 1/8\n"
     ]
    },
    {
     "name": "stderr",
     "output_type": "stream",
     "text": [
      "2023-04-18 16:09:14.577421: I tensorflow/core/grappler/optimizers/custom_graph_optimizer_registry.cc:113] Plugin optimizer for device_type GPU is enabled.\n"
     ]
    },
    {
     "name": "stdout",
     "output_type": "stream",
     "text": [
      "850/850 [==============================] - ETA: 0s - loss: 4.4666 - accuracy: 0.5118"
     ]
    },
    {
     "name": "stderr",
     "output_type": "stream",
     "text": [
      "2023-04-18 16:10:41.954292: I tensorflow/core/grappler/optimizers/custom_graph_optimizer_registry.cc:113] Plugin optimizer for device_type GPU is enabled.\n"
     ]
    },
    {
     "name": "stdout",
     "output_type": "stream",
     "text": [
      "850/850 [==============================] - 96s 112ms/step - loss: 4.4666 - accuracy: 0.5118 - val_loss: 0.8480 - val_accuracy: 0.6214\n",
      "Epoch 2/8\n",
      "850/850 [==============================] - 95s 111ms/step - loss: 0.6800 - accuracy: 0.7033 - val_loss: 0.6551 - val_accuracy: 0.7162\n",
      "Epoch 3/8\n",
      "850/850 [==============================] - 95s 112ms/step - loss: 0.4580 - accuracy: 0.8026 - val_loss: 0.6190 - val_accuracy: 0.7421\n",
      "Epoch 4/8\n",
      "850/850 [==============================] - 92s 108ms/step - loss: 0.3409 - accuracy: 0.8537 - val_loss: 0.5775 - val_accuracy: 0.7833\n",
      "Epoch 5/8\n",
      "850/850 [==============================] - 94s 111ms/step - loss: 0.2690 - accuracy: 0.8859 - val_loss: 0.6192 - val_accuracy: 0.7693\n",
      "Epoch 6/8\n",
      "850/850 [==============================] - 94s 111ms/step - loss: 0.2375 - accuracy: 0.9037 - val_loss: 0.7293 - val_accuracy: 0.7669\n",
      "Epoch 7/8\n",
      "850/850 [==============================] - 95s 111ms/step - loss: 0.1927 - accuracy: 0.9218 - val_loss: 0.7013 - val_accuracy: 0.7933\n",
      "Epoch 8/8\n",
      "850/850 [==============================] - 95s 112ms/step - loss: 0.1630 - accuracy: 0.9327 - val_loss: 0.8840 - val_accuracy: 0.7722\n"
     ]
    }
   ],
   "source": [
    "simpleCNN.compile(optimizer='adam', loss = SparseCategoricalCrossentropy(from_logits=True), metrics=['accuracy'])\n",
    "history = simpleCNN.fit(train_ds, validation_data=val_ds, epochs=8)"
   ]
  },
  {
   "cell_type": "markdown",
   "metadata": {},
   "source": [
    "## 75% accuracy with boilerplate CNN structure straight from the docs! \n",
    "(random would be 25%) \n",
    "Let's see how accurate we can get by tweaking the layers/hyperparams to better fit our situation."
   ]
  },
  {
   "cell_type": "markdown",
   "metadata": {},
   "source": [
    "We can see that training accuracy has increased over each epoch, nearing 98%, however validation accuracy has become stagnant around 77%. This is evidence of overfit by the model. We will address this by creating a new model that is a tweaked version of the original."
   ]
  },
  {
   "cell_type": "code",
   "execution_count": 39,
   "metadata": {},
   "outputs": [
    {
     "name": "stdout",
     "output_type": "stream",
     "text": [
      "213/213 - 8s - loss: 0.8840 - accuracy: 0.7722 - 8s/epoch - 37ms/step\n"
     ]
    },
    {
     "data": {
      "image/png": "[encoded data removed]",
      "text/plain": [
       "<Figure size 640x480 with 1 Axes>"
      ]
     },
     "metadata": {},
     "output_type": "display_data"
    }
   ],
   "source": [
    "plt.plot(history.history['accuracy'], label='accuracy')\n",
    "plt.plot(history.history['val_accuracy'], label = 'val_accuracy')\n",
    "plt.xlabel('Epoch')\n",
    "plt.ylabel('Accuracy')\n",
    "plt.ylim([0.5, 1])\n",
    "plt.legend(loc='lower right')\n",
    "\n",
    "test_loss, test_acc = simpleCNN.evaluate(val_ds, verbose=2)"
   ]
  },
  {
   "cell_type": "markdown",
   "metadata": {},
   "source": [
    "### We will reference the following article which provides remedies to overfit for CNN's. \n",
    "https://towardsdatascience.com/deep-learning-3-more-on-cnns-handling-overfitting-2bd5d99abe5d \n",
    "\n",
    "The article recommends the following steps to reduce overfitting:\n",
    "1. Add more data\n",
    "2. Use data augmentation\n",
    "3. Use architectures that generalize well\n",
    "4. Add regularization (mostly dropout, L1/L2 regularization are also possible)\n",
    "5. Reduce architecture complexity.\n",
    "\n"
   ]
  },
  {
   "cell_type": "code",
   "execution_count": 91,
   "metadata": {},
   "outputs": [
    {
     "name": "stdout",
     "output_type": "stream",
     "text": [
      "Model: \"sequential_28\"\n",
      "_________________________________________________________________\n",
      " Layer (type)                Output Shape              Param #   \n",
      "=================================================================\n",
      " conv2d_66 (Conv2D)          (None, 174, 206, 32)      896       \n",
      "                                                                 \n",
      " batch_normalization_30 (Bat  (None, 174, 206, 32)     128       \n",
      " chNormalization)                                                \n",
      "                                                                 \n",
      " max_pooling2d_52 (MaxPoolin  (None, 87, 103, 32)      0         \n",
      " g2D)                                                            \n",
      "                                                                 \n",
      " dropout_18 (Dropout)        (None, 87, 103, 32)       0         \n",
      "                                                                 \n",
      " conv2d_67 (Conv2D)          (None, 85, 101, 64)       18496     \n",
      "                                                                 \n",
      " batch_normalization_31 (Bat  (None, 85, 101, 64)      256       \n",
      " chNormalization)                                                \n",
      "                                                                 \n",
      " max_pooling2d_53 (MaxPoolin  (None, 42, 50, 64)       0         \n",
      " g2D)                                                            \n",
      "                                                                 \n",
      " dropout_19 (Dropout)        (None, 42, 50, 64)        0         \n",
      "                                                                 \n",
      " flatten_24 (Flatten)        (None, 134400)            0         \n",
      "                                                                 \n",
      " dense_31 (Dense)            (None, 250)               33600250  \n",
      "                                                                 \n",
      " batch_normalization_32 (Bat  (None, 250)              1000      \n",
      " chNormalization)                                                \n",
      "                                                                 \n",
      " dropout_20 (Dropout)        (None, 250)               0         \n",
      "                                                                 \n",
      " dense_32 (Dense)            (None, 4)                 1004      \n",
      "                                                                 \n",
      "=================================================================\n",
      "Total params: 33,622,030\n",
      "Trainable params: 33,621,338\n",
      "Non-trainable params: 692\n",
      "_________________________________________________________________\n"
     ]
    }
   ],
   "source": [
    "tweak1 = Sequential()\n",
    "tweak1.add(Conv2D(32, (3,3), activation='relu', input_shape=(176, 208, 3)))\n",
    "tweak1.add(BatchNormalization())\n",
    "tweak1.add(MaxPooling2D((2,2)))\n",
    "tweak1.add(Dropout(0.4))\n",
    "tweak1.add(Conv2D(64, (3,3), activation='relu'))\n",
    "tweak1.add(BatchNormalization())\n",
    "tweak1.add(MaxPooling2D((2,2)))\n",
    "tweak1.add(Dropout(0.4))\n",
    "#tweak1.add(Conv2D(64, (3,3), activation='relu'))\n",
    "\n",
    "#add dense layers\n",
    "tweak1.add(Flatten())\n",
    "tweak1.add(Dense(250, activation='relu'))\n",
    "tweak1.add(BatchNormalization())\n",
    "tweak1.add(Dropout(0.2))\n",
    "tweak1.add(Dense(4, activation='softmax'))\n",
    "\n",
    "tweak1.summary()"
   ]
  },
  {
   "cell_type": "code",
   "execution_count": 92,
   "metadata": {},
   "outputs": [
    {
     "name": "stdout",
     "output_type": "stream",
     "text": [
      "Epoch 1/25\n"
     ]
    },
    {
     "name": "stderr",
     "output_type": "stream",
     "text": [
      "2023-04-19 12:30:41.374039: I tensorflow/core/grappler/optimizers/custom_graph_optimizer_registry.cc:113] Plugin optimizer for device_type GPU is enabled.\n"
     ]
    },
    {
     "name": "stdout",
     "output_type": "stream",
     "text": [
      "850/850 [==============================] - ETA: 0s - loss: 0.9739 - accuracy: 0.5784"
     ]
    },
    {
     "name": "stderr",
     "output_type": "stream",
     "text": [
      "2023-04-19 12:33:43.802786: I tensorflow/core/grappler/optimizers/custom_graph_optimizer_registry.cc:113] Plugin optimizer for device_type GPU is enabled.\n"
     ]
    },
    {
     "name": "stdout",
     "output_type": "stream",
     "text": [
      "850/850 [==============================] - 196s 230ms/step - loss: 0.9739 - accuracy: 0.5784 - val_loss: 7.0818 - val_accuracy: 0.4612\n",
      "Epoch 2/25\n",
      "850/850 [==============================] - 197s 232ms/step - loss: 0.7577 - accuracy: 0.6710 - val_loss: 0.7922 - val_accuracy: 0.6541\n",
      "Epoch 3/25\n",
      "850/850 [==============================] - 194s 228ms/step - loss: 0.5984 - accuracy: 0.7471 - val_loss: 1.7641 - val_accuracy: 0.5427\n",
      "Epoch 4/25\n",
      "850/850 [==============================] - 193s 227ms/step - loss: 0.4848 - accuracy: 0.7977 - val_loss: 0.8653 - val_accuracy: 0.7863\n",
      "Epoch 5/25\n",
      "850/850 [==============================] - 190s 224ms/step - loss: 0.4032 - accuracy: 0.8354 - val_loss: 0.4153 - val_accuracy: 0.8337\n",
      "Epoch 6/25\n",
      "850/850 [==============================] - 189s 223ms/step - loss: 0.3390 - accuracy: 0.8646 - val_loss: 0.6212 - val_accuracy: 0.8324\n",
      "Epoch 7/25\n",
      "850/850 [==============================] - 194s 229ms/step - loss: 0.2683 - accuracy: 0.8938 - val_loss: 0.3447 - val_accuracy: 0.8617\n",
      "Epoch 8/25\n",
      "850/850 [==============================] - 194s 229ms/step - loss: 0.2987 - accuracy: 0.8842 - val_loss: 0.3646 - val_accuracy: 0.8632\n",
      "Epoch 9/25\n",
      "850/850 [==============================] - 194s 228ms/step - loss: 0.2404 - accuracy: 0.9085 - val_loss: 0.3356 - val_accuracy: 0.8674\n",
      "Epoch 10/25\n",
      "850/850 [==============================] - 190s 224ms/step - loss: 0.1827 - accuracy: 0.9294 - val_loss: 0.3875 - val_accuracy: 0.8586\n",
      "Epoch 11/25\n",
      "850/850 [==============================] - 189s 222ms/step - loss: 0.1362 - accuracy: 0.9488 - val_loss: 0.7130 - val_accuracy: 0.7737\n",
      "Epoch 12/25\n",
      "850/850 [==============================] - 188s 221ms/step - loss: 0.1133 - accuracy: 0.9583 - val_loss: 0.3399 - val_accuracy: 0.8785\n",
      "Epoch 13/25\n",
      "850/850 [==============================] - 189s 222ms/step - loss: 0.0959 - accuracy: 0.9662 - val_loss: 0.4268 - val_accuracy: 0.8673\n",
      "Epoch 14/25\n",
      "850/850 [==============================] - 189s 223ms/step - loss: 0.1005 - accuracy: 0.9639 - val_loss: 0.4336 - val_accuracy: 0.8654\n",
      "Epoch 15/25\n",
      "850/850 [==============================] - 190s 224ms/step - loss: 0.0866 - accuracy: 0.9683 - val_loss: 0.3670 - val_accuracy: 0.8760\n",
      "Epoch 16/25\n",
      "850/850 [==============================] - 190s 224ms/step - loss: 0.0786 - accuracy: 0.9722 - val_loss: 0.3491 - val_accuracy: 0.8848\n",
      "Epoch 17/25\n",
      "850/850 [==============================] - 193s 227ms/step - loss: 0.0751 - accuracy: 0.9738 - val_loss: 0.3602 - val_accuracy: 0.8807\n",
      "Epoch 18/25\n",
      "850/850 [==============================] - 195s 229ms/step - loss: 0.0654 - accuracy: 0.9761 - val_loss: 0.3764 - val_accuracy: 0.8867\n",
      "Epoch 19/25\n",
      "850/850 [==============================] - 195s 230ms/step - loss: 0.0546 - accuracy: 0.9811 - val_loss: 0.3834 - val_accuracy: 0.8771\n",
      "Epoch 20/25\n",
      "850/850 [==============================] - 197s 231ms/step - loss: 0.0577 - accuracy: 0.9793 - val_loss: 0.4351 - val_accuracy: 0.8758\n",
      "Epoch 21/25\n",
      "850/850 [==============================] - 190s 223ms/step - loss: 0.0517 - accuracy: 0.9819 - val_loss: 0.4404 - val_accuracy: 0.8805\n",
      "Epoch 22/25\n",
      "850/850 [==============================] - 189s 222ms/step - loss: 0.0705 - accuracy: 0.9773 - val_loss: 0.4784 - val_accuracy: 0.8484\n",
      "Epoch 23/25\n",
      "850/850 [==============================] - 195s 229ms/step - loss: 0.0792 - accuracy: 0.9720 - val_loss: 0.4636 - val_accuracy: 0.8652\n",
      "Epoch 24/25\n",
      "850/850 [==============================] - 194s 228ms/step - loss: 0.0455 - accuracy: 0.9838 - val_loss: 0.3596 - val_accuracy: 0.8891\n",
      "Epoch 25/25\n",
      "850/850 [==============================] - 194s 228ms/step - loss: 0.0387 - accuracy: 0.9869 - val_loss: 0.4125 - val_accuracy: 0.8823\n"
     ]
    }
   ],
   "source": [
    "tweak1.compile(optimizer='adam', loss = CategoricalCrossentropy(), metrics=['accuracy'])\n",
    "history = tweak1.fit(train_ds, validation_data=val_ds, epochs=25)"
   ]
  },
  {
   "cell_type": "code",
   "execution_count": 93,
   "metadata": {},
   "outputs": [
    {
     "name": "stdout",
     "output_type": "stream",
     "text": [
      "Epoch 1/5\n",
      "850/850 [==============================] - 195s 229ms/step - loss: 0.0329 - accuracy: 0.9882 - val_loss: 0.4386 - val_accuracy: 0.8724\n",
      "Epoch 2/5\n",
      "850/850 [==============================] - 193s 227ms/step - loss: 0.0342 - accuracy: 0.9878 - val_loss: 0.4340 - val_accuracy: 0.8852\n",
      "Epoch 3/5\n",
      "850/850 [==============================] - 193s 227ms/step - loss: 0.0391 - accuracy: 0.9866 - val_loss: 0.3927 - val_accuracy: 0.8870\n",
      "Epoch 4/5\n",
      "850/850 [==============================] - 195s 229ms/step - loss: 0.0349 - accuracy: 0.9876 - val_loss: 0.4336 - val_accuracy: 0.8849\n",
      "Epoch 5/5\n",
      "850/850 [==============================] - 194s 228ms/step - loss: 0.0351 - accuracy: 0.9872 - val_loss: 0.4329 - val_accuracy: 0.8773\n"
     ]
    }
   ],
   "source": [
    "# going to run a few more epochs to see if we can improve\n",
    "history2 = tweak1.fit(train_ds, validation_data=val_ds, epochs=5)"
   ]
  },
  {
   "cell_type": "code",
   "execution_count": 96,
   "metadata": {},
   "outputs": [
    {
     "name": "stdout",
     "output_type": "stream",
     "text": [
      "213/213 - 14s - loss: 0.4329 - accuracy: 0.8773 - 14s/epoch - 63ms/step\n"
     ]
    },
    {
     "data": {
      "image/png": "[encoded data removed]",
      "text/plain": [
       "<Figure size 640x480 with 1 Axes>"
      ]
     },
     "metadata": {},
     "output_type": "display_data"
    }
   ],
   "source": [
    "plt.plot(history.history['accuracy'], label='accuracy')\n",
    "plt.plot(history.history['val_accuracy'], label = 'val_accuracy')\n",
    "plt.xlabel('Epoch')\n",
    "plt.ylabel('Accuracy')\n",
    "plt.ylim([0.5, 1])\n",
    "plt.legend(loc='lower right')\n",
    "\n",
    "test_loss, test_acc = tweak1.evaluate(val_ds, verbose=2)"
   ]
  },
  {
   "cell_type": "markdown",
   "metadata": {},
   "source": [
    "## Iterations\n",
    "\n",
    "1. removed 3rd convolutional layer as well as dense 64 layer to reduce complexity. \n",
    "- result: still overfit, lower training and validation accuracy\n",
    "\n",
    "2. added batchnormalization layers after each convolution layer as seen in online examples. \n",
    "- Result: increase to 81% accuracy on validation (only 5 epochs)\n",
    "- Idea: maybe reduce batch size, will increase train time but could help prevent generalization error\n",
    "\n",
    "3. changed activation back to relu, batch size reduced to 16\n",
    "- result: BAD, total random guess, 26% accuracy\n",
    "\n",
    "4. adding dropout, changed input dimensions to 176x208\n",
    "- results: accuracy at 85% after 13 epochs, overfit begins after 13 epochs\n",
    "\n",
    "5. adding another dense layer before the output, with dropout in between\n",
    "- upped dense layer units to 250, added batchnorm\n",
    "\n"
   ]
  }
 ],
 "metadata": {
  "kernelspec": {
   "display_name": "Python 3.10.6 64-bit",
   "language": "python",
   "name": "python3"
  },
  "language_info": {
   "codemirror_mode": {
    "name": "ipython",
    "version": 3
   },
   "file_extension": ".py",
   "mimetype": "text/x-python",
   "name": "python",
   "nbconvert_exporter": "python",
   "pygments_lexer": "ipython3",
   "version": "3.10.6"
  },
  "orig_nbformat": 4,
  "vscode": {
   "interpreter": {
    "hash": "aee8b7b246df8f9039afb4144a1f6fd8d2ca17a180786b69acc140d282b71a49"
   }
  }
 },
 "nbformat": 4,
 "nbformat_minor": 2
}
