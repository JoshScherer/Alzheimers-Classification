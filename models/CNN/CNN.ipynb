{
 "cells": [
  {
   "cell_type": "code",
   "execution_count": 12,
   "metadata": {},
   "outputs": [],
   "source": [
    "import tensorflow as tf\n",
    "from tensorflow import keras\n",
    "from keras.models import Sequential\n",
    "from keras.layers import Dense, Flatten, Conv2D, MaxPooling2D, Dropout\n",
    "from keras.losses import SparseCategoricalCrossentropy, CategoricalCrossentropy\n",
    "from keras import layers\n",
    "from keras.utils import to_categorical\n",
    "import numpy as np\n",
    "import matplotlib.pyplot as plt"
   ]
  },
  {
   "cell_type": "code",
   "execution_count": 5,
   "metadata": {},
   "outputs": [
    {
     "name": "stdout",
     "output_type": "stream",
     "text": [
      "Found 33984 files belonging to 4 classes.\n",
      "Using 27188 files for training.\n",
      "Metal device set to: Apple M1\n",
      "\n",
      "systemMemory: 8.00 GB\n",
      "maxCacheSize: 2.67 GB\n",
      "\n"
     ]
    },
    {
     "name": "stderr",
     "output_type": "stream",
     "text": [
      "2023-04-17 23:53:26.445652: I tensorflow/core/common_runtime/pluggable_device/pluggable_device_factory.cc:305] Could not identify NUMA node of platform GPU ID 0, defaulting to 0. Your kernel may not have been built with NUMA support.\n",
      "2023-04-17 23:53:26.447033: I tensorflow/core/common_runtime/pluggable_device/pluggable_device_factory.cc:271] Created TensorFlow device (/job:localhost/replica:0/task:0/device:GPU:0 with 0 MB memory) -> physical PluggableDevice (device: 0, name: METAL, pci bus id: <undefined>)\n"
     ]
    },
    {
     "name": "stdout",
     "output_type": "stream",
     "text": [
      "Found 33984 files belonging to 4 classes.\n",
      "Using 6796 files for validation.\n"
     ]
    }
   ],
   "source": [
    "train_ds = tf.keras.preprocessing.image_dataset_from_directory(\n",
    "                '../../data/AugmentedAlzheimerDataset',\n",
    "                labels=\"inferred\",\n",
    "                label_mode=\"int\",\n",
    "                class_names=None,\n",
    "                color_mode=\"rgb\",\n",
    "                batch_size=32,\n",
    "                image_size=(180, 180),  # can change this, maybe avg dimensions over all pics\n",
    "                shuffle=True,\n",
    "                seed=69, #haha\n",
    "                validation_split=.2,\n",
    "                subset='training',\n",
    "                interpolation=\"bilinear\",\n",
    "                follow_links=False,\n",
    "                crop_to_aspect_ratio=False\n",
    "            )\n",
    "\n",
    "val_ds = tf.keras.preprocessing.image_dataset_from_directory(\n",
    "                '../../data/AugmentedAlzheimerDataset',\n",
    "                labels=\"inferred\",\n",
    "                label_mode=\"int\",\n",
    "                class_names=None,\n",
    "                color_mode=\"rgb\",\n",
    "                batch_size=32,\n",
    "                image_size=(180, 180),  # can change this, maybe avg dimensions over all pics\n",
    "                shuffle=True,\n",
    "                seed=69, #haha\n",
    "                validation_split=.2,\n",
    "                subset='validation',\n",
    "                interpolation=\"bilinear\",\n",
    "                follow_links=False,\n",
    "                crop_to_aspect_ratio=False\n",
    "            )"
   ]
  },
  {
   "cell_type": "markdown",
   "metadata": {},
   "source": [
    "### A simple starter to play around with\n",
    "\n",
    "from: https://www.tensorflow.org/tutorials/images/cnn "
   ]
  },
  {
   "cell_type": "code",
   "execution_count": 22,
   "metadata": {},
   "outputs": [
    {
     "name": "stdout",
     "output_type": "stream",
     "text": [
      "Model: \"sequential_10\"\n",
      "_________________________________________________________________\n",
      " Layer (type)                Output Shape              Param #   \n",
      "=================================================================\n",
      " conv2d_27 (Conv2D)          (None, 178, 178, 32)      896       \n",
      "                                                                 \n",
      " max_pooling2d_17 (MaxPoolin  (None, 89, 89, 32)       0         \n",
      " g2D)                                                            \n",
      "                                                                 \n",
      " conv2d_28 (Conv2D)          (None, 87, 87, 64)        18496     \n",
      "                                                                 \n",
      " max_pooling2d_18 (MaxPoolin  (None, 43, 43, 64)       0         \n",
      " g2D)                                                            \n",
      "                                                                 \n",
      " conv2d_29 (Conv2D)          (None, 41, 41, 64)        36928     \n",
      "                                                                 \n",
      " flatten_6 (Flatten)         (None, 107584)            0         \n",
      "                                                                 \n",
      " dense_7 (Dense)             (None, 64)                6885440   \n",
      "                                                                 \n",
      " dense_8 (Dense)             (None, 4)                 260       \n",
      "                                                                 \n",
      "=================================================================\n",
      "Total params: 6,942,020\n",
      "Trainable params: 6,942,020\n",
      "Non-trainable params: 0\n",
      "_________________________________________________________________\n"
     ]
    }
   ],
   "source": [
    "simpleCNN = Sequential()\n",
    "simpleCNN.add(Conv2D(32, (3,3), activation='relu', input_shape=(180, 180, 3)))\n",
    "simpleCNN.add(MaxPooling2D((2,2)))\n",
    "simpleCNN.add(Conv2D(64, (3,3), activation='relu'))\n",
    "simpleCNN.add(MaxPooling2D((2,2)))\n",
    "simpleCNN.add(Conv2D(64, (3,3), activation='relu'))\n",
    "\n",
    "#add dense layers\n",
    "simpleCNN.add(Flatten())\n",
    "simpleCNN.add(Dense(64, activation='relu'))\n",
    "simpleCNN.add(Dense(4))\n",
    "\n",
    "simpleCNN.summary()"
   ]
  },
  {
   "cell_type": "code",
   "execution_count": 25,
   "metadata": {},
   "outputs": [
    {
     "name": "stdout",
     "output_type": "stream",
     "text": [
      "Epoch 1/5\n"
     ]
    },
    {
     "name": "stderr",
     "output_type": "stream",
     "text": [
      "2023-04-18 00:29:58.621361: I tensorflow/core/grappler/optimizers/custom_graph_optimizer_registry.cc:113] Plugin optimizer for device_type GPU is enabled.\n"
     ]
    },
    {
     "name": "stdout",
     "output_type": "stream",
     "text": [
      "850/850 [==============================] - ETA: 0s - loss: 39.2653 - accuracy: 0.4695"
     ]
    },
    {
     "name": "stderr",
     "output_type": "stream",
     "text": [
      "2023-04-18 00:31:27.019392: I tensorflow/core/grappler/optimizers/custom_graph_optimizer_registry.cc:113] Plugin optimizer for device_type GPU is enabled.\n"
     ]
    },
    {
     "name": "stdout",
     "output_type": "stream",
     "text": [
      "850/850 [==============================] - 97s 113ms/step - loss: 39.2653 - accuracy: 0.4695 - val_loss: 0.8569 - val_accuracy: 0.6149\n",
      "Epoch 2/5\n",
      "850/850 [==============================] - 95s 111ms/step - loss: 0.7312 - accuracy: 0.6773 - val_loss: 0.6715 - val_accuracy: 0.7079\n",
      "Epoch 3/5\n",
      "850/850 [==============================] - 95s 111ms/step - loss: 0.5190 - accuracy: 0.7757 - val_loss: 0.6834 - val_accuracy: 0.7212\n",
      "Epoch 4/5\n",
      "850/850 [==============================] - 95s 111ms/step - loss: 0.3836 - accuracy: 0.8374 - val_loss: 0.6933 - val_accuracy: 0.7450\n",
      "Epoch 5/5\n",
      "850/850 [==============================] - 95s 111ms/step - loss: 0.2902 - accuracy: 0.8810 - val_loss: 0.7982 - val_accuracy: 0.7521\n"
     ]
    }
   ],
   "source": [
    "simpleCNN.compile(optimizer='adam', loss = SparseCategoricalCrossentropy(from_logits=True), metrics=['accuracy'])\n",
    "history = simpleCNN.fit(train_ds, validation_data=val_ds, epochs=5)"
   ]
  },
  {
   "cell_type": "markdown",
   "metadata": {},
   "source": [
    "## 75% accuracy with boilerplate CNN structure straight from the docs! \n",
    "(random would be 25%) \n",
    "Let's see how accurate we can get by tweaking the layers/hyperparams to better fit our situation."
   ]
  }
 ],
 "metadata": {
  "kernelspec": {
   "display_name": "Python 3.10.6 64-bit",
   "language": "python",
   "name": "python3"
  },
  "language_info": {
   "codemirror_mode": {
    "name": "ipython",
    "version": 3
   },
   "file_extension": ".py",
   "mimetype": "text/x-python",
   "name": "python",
   "nbconvert_exporter": "python",
   "pygments_lexer": "ipython3",
   "version": "3.10.6"
  },
  "orig_nbformat": 4,
  "vscode": {
   "interpreter": {
    "hash": "aee8b7b246df8f9039afb4144a1f6fd8d2ca17a180786b69acc140d282b71a49"
   }
  }
 },
 "nbformat": 4,
 "nbformat_minor": 2
}
